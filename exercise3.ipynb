{
 "cells": [
  {
   "cell_type": "code",
   "execution_count": 1,
   "metadata": {},
   "outputs": [],
   "source": [
    "import os\n",
    "\n",
    "from tensorflow.keras import layers\n",
    "from tensorflow.keras import Model"
   ]
  },
  {
   "cell_type": "code",
   "execution_count": 3,
   "metadata": {},
   "outputs": [
    {
     "name": "stdout",
     "output_type": "stream",
     "text": [
      "Downloaded to /tmp/inception_v3_weights_tf_dim_ordering_tf_kernels_notop.h5\n"
     ]
    }
   ],
   "source": [
    "import urllib.request\n",
    "import ssl\n",
    "import shutil\n",
    "\n",
    "url = \"https://storage.googleapis.com/mledu-datasets/inception_v3_weights_tf_dim_ordering_tf_kernels_notop.h5\"\n",
    "output_path = \"/tmp/inception_v3_weights_tf_dim_ordering_tf_kernels_notop.h5\"\n",
    "\n",
    "# Create an SSL context that does not verify certificates\n",
    "ssl_context = ssl._create_unverified_context()\n",
    "\n",
    "with urllib.request.urlopen(url, context=ssl_context) as response, open(output_path, 'wb') as out_file:\n",
    "    shutil.copyfileobj(response, out_file)\n",
    "\n",
    "print(f\"Downloaded to {output_path}\")"
   ]
  },
  {
   "cell_type": "code",
   "execution_count": 4,
   "metadata": {},
   "outputs": [],
   "source": [
    "from tensorflow.keras.applications.inception_v3 import InceptionV3\n",
    "\n",
    "local_weights_file = '/tmp/inception_v3_weights_tf_dim_ordering_tf_kernels_notop.h5'\n",
    "pre_trained_model = InceptionV3(\n",
    "    input_shape=(150, 150, 3), include_top=False, weights=None)\n",
    "pre_trained_model.load_weights(local_weights_file)"
   ]
  },
  {
   "cell_type": "code",
   "execution_count": 5,
   "metadata": {},
   "outputs": [],
   "source": [
    "for layer in pre_trained_model.layers:\n",
    "  layer.trainable = False"
   ]
  },
  {
   "cell_type": "code",
   "execution_count": 8,
   "metadata": {},
   "outputs": [
    {
     "name": "stdout",
     "output_type": "stream",
     "text": [
      "last layer output shape: (None, 7, 7, 768)\n"
     ]
    }
   ],
   "source": [
    "last_layer = pre_trained_model.get_layer('mixed7')\n",
    "print('last layer output shape:', last_layer.output.shape)\n",
    "last_output = last_layer.output"
   ]
  },
  {
   "cell_type": "code",
   "execution_count": 10,
   "metadata": {},
   "outputs": [],
   "source": [
    "from tensorflow.keras.optimizers import RMSprop\n",
    "\n",
    "# Flatten the output layer to 1 dimension\n",
    "x = layers.Flatten()(last_output)\n",
    "# Add a fully connected layer with 1,024 hidden units and ReLU activation\n",
    "x = layers.Dense(1024, activation='relu')(x)\n",
    "# Add a dropout rate of 0.2\n",
    "x = layers.Dropout(0.2)(x)\n",
    "# Add a final sigmoid layer for classification\n",
    "x = layers.Dense(1, activation='sigmoid')(x)\n",
    "\n",
    "# Configure and compile the model\n",
    "model = Model(pre_trained_model.input, x)\n",
    "model.compile(loss='binary_crossentropy',\n",
    "              optimizer=RMSprop(learning_rate=0.0001),\n",
    "              metrics=['acc'])"
   ]
  },
  {
   "cell_type": "code",
   "execution_count": 11,
   "metadata": {},
   "outputs": [
    {
     "name": "stdout",
     "output_type": "stream",
     "text": [
      "Found 2000 images belonging to 2 classes.\n",
      "Found 1000 images belonging to 2 classes.\n"
     ]
    }
   ],
   "source": [
    "import os\n",
    "import zipfile\n",
    "\n",
    "from tensorflow.keras.preprocessing.image import ImageDataGenerator\n",
    "\n",
    "local_zip = '/tmp/cats_and_dogs_filtered.zip'\n",
    "zip_ref = zipfile.ZipFile(local_zip, 'r')\n",
    "zip_ref.extractall('/tmp')\n",
    "zip_ref.close()\n",
    "\n",
    "# Define our example directories and files\n",
    "base_dir = '/tmp/cats_and_dogs_filtered'\n",
    "train_dir = os.path.join(base_dir, 'train')\n",
    "validation_dir = os.path.join(base_dir, 'validation')\n",
    "\n",
    "# Directory with our training cat pictures\n",
    "train_cats_dir = os.path.join(train_dir, 'cats')\n",
    "\n",
    "# Directory with our training dog pictures\n",
    "train_dogs_dir = os.path.join(train_dir, 'dogs')\n",
    "\n",
    "# Directory with our validation cat pictures\n",
    "validation_cats_dir = os.path.join(validation_dir, 'cats')\n",
    "\n",
    "# Directory with our validation dog pictures\n",
    "validation_dogs_dir = os.path.join(validation_dir, 'dogs')\n",
    "\n",
    "train_cat_fnames = os.listdir(train_cats_dir)\n",
    "train_dog_fnames = os.listdir(train_dogs_dir)\n",
    "\n",
    "# Add our data-augmentation parameters to ImageDataGenerator\n",
    "train_datagen = ImageDataGenerator(\n",
    "    rescale=1./255,\n",
    "    rotation_range=40,\n",
    "    width_shift_range=0.2,\n",
    "    height_shift_range=0.2,\n",
    "    shear_range=0.2,\n",
    "    zoom_range=0.2,\n",
    "    horizontal_flip=True)\n",
    "\n",
    "# Note that the validation data should not be augmented!\n",
    "val_datagen = ImageDataGenerator(rescale=1./255)\n",
    "\n",
    "train_generator = train_datagen.flow_from_directory(\n",
    "        train_dir, # This is the source directory for training images\n",
    "        target_size=(150, 150),  # All images will be resized to 150x150\n",
    "        batch_size=20,\n",
    "        # Since we use binary_crossentropy loss, we need binary labels\n",
    "        class_mode='binary')\n",
    "\n",
    "# Flow validation images in batches of 20 using val_datagen generator\n",
    "validation_generator = val_datagen.flow_from_directory(\n",
    "        validation_dir,\n",
    "        target_size=(150, 150),\n",
    "        batch_size=20,\n",
    "        class_mode='binary')"
   ]
  },
  {
   "cell_type": "code",
   "execution_count": 12,
   "metadata": {},
   "outputs": [
    {
     "name": "stdout",
     "output_type": "stream",
     "text": [
      "Epoch 1/2\n"
     ]
    },
    {
     "name": "stderr",
     "output_type": "stream",
     "text": [
      "/Library/Frameworks/Python.framework/Versions/3.10/lib/python3.10/site-packages/keras/src/trainers/data_adapters/py_dataset_adapter.py:121: UserWarning: Your `PyDataset` class should call `super().__init__(**kwargs)` in its constructor. `**kwargs` can include `workers`, `use_multiprocessing`, `max_queue_size`. Do not pass these arguments to `fit()`, as they will be ignored.\n",
      "  self._warn_if_super_not_called()\n",
      "/Library/Frameworks/Python.framework/Versions/3.10/lib/python3.10/site-packages/keras/src/trainers/data_adapters/py_dataset_adapter.py:121: UserWarning: Your `PyDataset` class should call `super().__init__(**kwargs)` in its constructor. `**kwargs` can include `workers`, `use_multiprocessing`, `max_queue_size`. Do not pass these arguments to `fit()`, as they will be ignored.\n",
      "  self._warn_if_super_not_called()\n"
     ]
    },
    {
     "name": "stdout",
     "output_type": "stream",
     "text": [
      "100/100 - 25s - 246ms/step - acc: 0.8760 - loss: 0.3245 - val_acc: 0.9500 - val_loss: 0.1279\n",
      "Epoch 2/2\n",
      "100/100 - 24s - 236ms/step - acc: 0.9125 - loss: 0.2137 - val_acc: 0.9640 - val_loss: 0.0965\n"
     ]
    }
   ],
   "source": [
    "history = model.fit(\n",
    "      train_generator,\n",
    "      steps_per_epoch=100,\n",
    "      epochs=2,\n",
    "      validation_data=validation_generator,\n",
    "      validation_steps=50,\n",
    "      verbose=2)"
   ]
  },
  {
   "cell_type": "code",
   "execution_count": 14,
   "metadata": {},
   "outputs": [],
   "source": [
    "from tensorflow.keras.optimizers import SGD\n",
    "\n",
    "unfreeze = False\n",
    "\n",
    "# Unfreeze all models after \"mixed6\"\n",
    "for layer in pre_trained_model.layers:\n",
    "  if unfreeze:\n",
    "    layer.trainable = True\n",
    "  if layer.name == 'mixed6':\n",
    "    unfreeze = True\n",
    "\n",
    "# As an optimizer, here we will use SGD \n",
    "# with a very low learning rate (0.00001)\n",
    "model.compile(loss='binary_crossentropy',\n",
    "              optimizer=SGD(\n",
    "                  learning_rate=0.00001, \n",
    "                  momentum=0.9),\n",
    "              metrics=['acc'])"
   ]
  },
  {
   "cell_type": "code",
   "execution_count": 15,
   "metadata": {},
   "outputs": [
    {
     "name": "stdout",
     "output_type": "stream",
     "text": [
      "Epoch 1/50\n",
      "100/100 - 24s - 237ms/step - acc: 0.9030 - loss: 0.2428 - val_acc: 0.9570 - val_loss: 0.1135\n",
      "Epoch 2/50\n",
      "100/100 - 22s - 224ms/step - acc: 0.9040 - loss: 0.2400 - val_acc: 0.9530 - val_loss: 0.1269\n",
      "Epoch 3/50\n",
      "100/100 - 22s - 216ms/step - acc: 0.9115 - loss: 0.2272 - val_acc: 0.9550 - val_loss: 0.1317\n",
      "Epoch 4/50\n",
      "100/100 - 22s - 217ms/step - acc: 0.9155 - loss: 0.2258 - val_acc: 0.9540 - val_loss: 0.1332\n",
      "Epoch 5/50\n",
      "100/100 - 22s - 216ms/step - acc: 0.9240 - loss: 0.2179 - val_acc: 0.9580 - val_loss: 0.1315\n",
      "Epoch 6/50\n",
      "100/100 - 22s - 219ms/step - acc: 0.9195 - loss: 0.2163 - val_acc: 0.9600 - val_loss: 0.1307\n",
      "Epoch 7/50\n",
      "100/100 - 22s - 215ms/step - acc: 0.9170 - loss: 0.2106 - val_acc: 0.9590 - val_loss: 0.1290\n",
      "Epoch 8/50\n",
      "100/100 - 22s - 219ms/step - acc: 0.9285 - loss: 0.2099 - val_acc: 0.9590 - val_loss: 0.1279\n",
      "Epoch 9/50\n",
      "100/100 - 22s - 219ms/step - acc: 0.9165 - loss: 0.2251 - val_acc: 0.9590 - val_loss: 0.1286\n",
      "Epoch 10/50\n",
      "100/100 - 22s - 219ms/step - acc: 0.9145 - loss: 0.2157 - val_acc: 0.9590 - val_loss: 0.1278\n",
      "Epoch 11/50\n",
      "100/100 - 22s - 218ms/step - acc: 0.9140 - loss: 0.2190 - val_acc: 0.9590 - val_loss: 0.1270\n",
      "Epoch 12/50\n",
      "100/100 - 22s - 216ms/step - acc: 0.9205 - loss: 0.2122 - val_acc: 0.9590 - val_loss: 0.1261\n",
      "Epoch 13/50\n",
      "100/100 - 22s - 217ms/step - acc: 0.9075 - loss: 0.2189 - val_acc: 0.9590 - val_loss: 0.1263\n",
      "Epoch 14/50\n",
      "100/100 - 22s - 220ms/step - acc: 0.9150 - loss: 0.2117 - val_acc: 0.9600 - val_loss: 0.1262\n",
      "Epoch 15/50\n",
      "100/100 - 22s - 219ms/step - acc: 0.9115 - loss: 0.2149 - val_acc: 0.9600 - val_loss: 0.1257\n",
      "Epoch 16/50\n",
      "100/100 - 22s - 219ms/step - acc: 0.9185 - loss: 0.2064 - val_acc: 0.9600 - val_loss: 0.1240\n",
      "Epoch 17/50\n",
      "100/100 - 22s - 217ms/step - acc: 0.9155 - loss: 0.2158 - val_acc: 0.9600 - val_loss: 0.1244\n",
      "Epoch 18/50\n",
      "100/100 - 22s - 216ms/step - acc: 0.9235 - loss: 0.1983 - val_acc: 0.9610 - val_loss: 0.1237\n",
      "Epoch 19/50\n",
      "100/100 - 22s - 217ms/step - acc: 0.9180 - loss: 0.2150 - val_acc: 0.9600 - val_loss: 0.1227\n",
      "Epoch 20/50\n",
      "100/100 - 22s - 220ms/step - acc: 0.9090 - loss: 0.2095 - val_acc: 0.9610 - val_loss: 0.1215\n",
      "Epoch 21/50\n",
      "100/100 - 22s - 218ms/step - acc: 0.9270 - loss: 0.2060 - val_acc: 0.9610 - val_loss: 0.1209\n",
      "Epoch 22/50\n",
      "100/100 - 22s - 215ms/step - acc: 0.9250 - loss: 0.2038 - val_acc: 0.9610 - val_loss: 0.1214\n",
      "Epoch 23/50\n",
      "100/100 - 22s - 218ms/step - acc: 0.9175 - loss: 0.2182 - val_acc: 0.9610 - val_loss: 0.1197\n",
      "Epoch 24/50\n",
      "100/100 - 22s - 219ms/step - acc: 0.9100 - loss: 0.2203 - val_acc: 0.9600 - val_loss: 0.1213\n",
      "Epoch 25/50\n",
      "100/100 - 22s - 216ms/step - acc: 0.9240 - loss: 0.2059 - val_acc: 0.9600 - val_loss: 0.1200\n",
      "Epoch 26/50\n",
      "100/100 - 22s - 217ms/step - acc: 0.9160 - loss: 0.2118 - val_acc: 0.9610 - val_loss: 0.1190\n",
      "Epoch 27/50\n",
      "100/100 - 22s - 217ms/step - acc: 0.9235 - loss: 0.1968 - val_acc: 0.9610 - val_loss: 0.1186\n",
      "Epoch 28/50\n",
      "100/100 - 22s - 219ms/step - acc: 0.9310 - loss: 0.1915 - val_acc: 0.9620 - val_loss: 0.1193\n",
      "Epoch 29/50\n",
      "100/100 - 22s - 218ms/step - acc: 0.9235 - loss: 0.1979 - val_acc: 0.9610 - val_loss: 0.1186\n",
      "Epoch 30/50\n",
      "100/100 - 22s - 217ms/step - acc: 0.9195 - loss: 0.1981 - val_acc: 0.9620 - val_loss: 0.1180\n",
      "Epoch 31/50\n",
      "100/100 - 22s - 218ms/step - acc: 0.9220 - loss: 0.1925 - val_acc: 0.9610 - val_loss: 0.1173\n",
      "Epoch 32/50\n",
      "100/100 - 22s - 217ms/step - acc: 0.9240 - loss: 0.1904 - val_acc: 0.9620 - val_loss: 0.1171\n",
      "Epoch 33/50\n",
      "100/100 - 22s - 219ms/step - acc: 0.9185 - loss: 0.2041 - val_acc: 0.9620 - val_loss: 0.1171\n",
      "Epoch 34/50\n",
      "100/100 - 22s - 219ms/step - acc: 0.9260 - loss: 0.2017 - val_acc: 0.9620 - val_loss: 0.1165\n",
      "Epoch 35/50\n",
      "100/100 - 22s - 217ms/step - acc: 0.9205 - loss: 0.2052 - val_acc: 0.9620 - val_loss: 0.1164\n",
      "Epoch 36/50\n",
      "100/100 - 22s - 217ms/step - acc: 0.9180 - loss: 0.2072 - val_acc: 0.9620 - val_loss: 0.1172\n",
      "Epoch 37/50\n",
      "100/100 - 21s - 214ms/step - acc: 0.9265 - loss: 0.1919 - val_acc: 0.9620 - val_loss: 0.1164\n",
      "Epoch 38/50\n",
      "100/100 - 22s - 217ms/step - acc: 0.9280 - loss: 0.1872 - val_acc: 0.9630 - val_loss: 0.1156\n",
      "Epoch 39/50\n",
      "100/100 - 21s - 213ms/step - acc: 0.9300 - loss: 0.1884 - val_acc: 0.9630 - val_loss: 0.1153\n",
      "Epoch 40/50\n",
      "100/100 - 21s - 214ms/step - acc: 0.9295 - loss: 0.1861 - val_acc: 0.9630 - val_loss: 0.1149\n",
      "Epoch 41/50\n",
      "100/100 - 21s - 214ms/step - acc: 0.9220 - loss: 0.1894 - val_acc: 0.9630 - val_loss: 0.1143\n",
      "Epoch 42/50\n",
      "100/100 - 22s - 217ms/step - acc: 0.9225 - loss: 0.1948 - val_acc: 0.9630 - val_loss: 0.1141\n",
      "Epoch 43/50\n",
      "100/100 - 22s - 217ms/step - acc: 0.9235 - loss: 0.1878 - val_acc: 0.9630 - val_loss: 0.1134\n",
      "Epoch 44/50\n",
      "100/100 - 22s - 219ms/step - acc: 0.9190 - loss: 0.1926 - val_acc: 0.9630 - val_loss: 0.1131\n",
      "Epoch 45/50\n",
      "100/100 - 21s - 214ms/step - acc: 0.9225 - loss: 0.1955 - val_acc: 0.9620 - val_loss: 0.1136\n",
      "Epoch 46/50\n",
      "100/100 - 21s - 213ms/step - acc: 0.9250 - loss: 0.1857 - val_acc: 0.9630 - val_loss: 0.1141\n",
      "Epoch 47/50\n",
      "100/100 - 21s - 215ms/step - acc: 0.9175 - loss: 0.1906 - val_acc: 0.9630 - val_loss: 0.1124\n",
      "Epoch 48/50\n",
      "100/100 - 21s - 213ms/step - acc: 0.9285 - loss: 0.1906 - val_acc: 0.9630 - val_loss: 0.1130\n",
      "Epoch 49/50\n",
      "100/100 - 22s - 218ms/step - acc: 0.9230 - loss: 0.1888 - val_acc: 0.9630 - val_loss: 0.1125\n",
      "Epoch 50/50\n",
      "100/100 - 22s - 217ms/step - acc: 0.9165 - loss: 0.1976 - val_acc: 0.9630 - val_loss: 0.1114\n"
     ]
    }
   ],
   "source": [
    "history = model.fit(\n",
    "      train_generator,\n",
    "      steps_per_epoch=100,\n",
    "      epochs=50,\n",
    "      validation_data=validation_generator,\n",
    "      validation_steps=50,\n",
    "      verbose=2)"
   ]
  },
  {
   "cell_type": "code",
   "execution_count": 16,
   "metadata": {},
   "outputs": [
    {
     "data": {
      "text/plain": [
       "Text(0.5, 1.0, 'Training and validation loss')"
      ]
     },
     "execution_count": 16,
     "metadata": {},
     "output_type": "execute_result"
    },
    {
     "data": {
      "image/png": "[encoded data removed]",
      "text/plain": [
       "<Figure size 640x480 with 1 Axes>"
      ]
     },
     "metadata": {},
     "output_type": "display_data"
    },
    {
     "data": {
      "image/png": "[encoded data removed]",
      "text/plain": [
       "<Figure size 640x480 with 1 Axes>"
      ]
     },
     "metadata": {},
     "output_type": "display_data"
    }
   ],
   "source": [
    "%matplotlib inline\n",
    "\n",
    "import matplotlib.pyplot as plt\n",
    "import matplotlib.image as mpimg\n",
    "\n",
    "# Retrieve a list of accuracy results on training and validation data\n",
    "# sets for each training epoch\n",
    "acc = history.history['acc']\n",
    "val_acc = history.history['val_acc']\n",
    "\n",
    "# Retrieve a list of list results on training and validation data\n",
    "# sets for each training epoch\n",
    "loss = history.history['loss']\n",
    "val_loss = history.history['val_loss']\n",
    "\n",
    "# Get number of epochs\n",
    "epochs = range(len(acc))\n",
    "\n",
    "# Plot training and validation accuracy per epoch\n",
    "plt.plot(epochs, acc)\n",
    "plt.plot(epochs, val_acc)\n",
    "plt.title('Training and validation accuracy')\n",
    "\n",
    "plt.figure()\n",
    "\n",
    "# Plot training and validation loss per epoch\n",
    "plt.plot(epochs, loss)\n",
    "plt.plot(epochs, val_loss)\n",
    "plt.title('Training and validation loss')"
   ]
  },
  {
   "cell_type": "code",
   "execution_count": null,
   "metadata": {},
   "outputs": [
    {
     "ename": "",
     "evalue": "",
     "output_type": "error",
     "traceback": [
      "\u001b[1;31mThe Kernel crashed while executing code in the current cell or a previous cell. \n",
      "\u001b[1;31mPlease review the code in the cell(s) to identify a possible cause of the failure. \n",
      "\u001b[1;31mClick <a href='https://aka.ms/vscodeJupyterKernelCrash'>here</a> for more info. \n",
      "\u001b[1;31mView Jupyter <a href='command:jupyter.viewOutput'>log</a> for further details."
     ]
    }
   ],
   "source": [
    "import os, signal\n",
    "os.kill(os.getpid(), signal.SIGKILL)"
   ]
  },
  {
   "cell_type": "code",
   "execution_count": null,
   "metadata": {},
   "outputs": [],
   "source": []
  }
 ],
 "metadata": {
  "kernelspec": {
   "display_name": "Python 3",
   "language": "python",
   "name": "python3"
  },
  "language_info": {
   "codemirror_mode": {
    "name": "ipython",
    "version": 3
   },
   "file_extension": ".py",
   "mimetype": "text/x-python",
   "name": "python",
   "nbconvert_exporter": "python",
   "pygments_lexer": "ipython3",
   "version": "3.10.0"
  }
 },
 "nbformat": 4,
 "nbformat_minor": 2
}
